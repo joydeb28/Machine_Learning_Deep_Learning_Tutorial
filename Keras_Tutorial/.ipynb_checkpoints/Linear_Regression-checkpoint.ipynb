{
 "cells": [
  {
   "cell_type": "code",
   "execution_count": 2,
   "metadata": {},
   "outputs": [
    {
     "name": "stderr",
     "output_type": "stream",
     "text": [
      "/usr/local/lib/python3.5/dist-packages/h5py/__init__.py:36: FutureWarning: Conversion of the second argument of issubdtype from `float` to `np.floating` is deprecated. In future, it will be treated as `np.float64 == np.dtype(float).type`.\n",
      "  from ._conv import register_converters as _register_converters\n",
      "Using TensorFlow backend.\n"
     ]
    }
   ],
   "source": [
    "# Simple Linear Regression\n",
    "\n",
    "from keras.models import Sequential\n",
    "from keras.layers import Dense\n",
    "import numpy as np\n",
    "import matplotlib.pyplot as plt"
   ]
  },
  {
   "cell_type": "code",
   "execution_count": 3,
   "metadata": {},
   "outputs": [],
   "source": [
    "# Generate dataset\n",
    "trX = np.linspace(-1, 1, 101)\n",
    "\n",
    "# create a y value which is approximately linear but with some random noise\n",
    "trY = 2 * trX + np.random.randn(*trX.shape) * 0.35"
   ]
  },
  {
   "cell_type": "code",
   "execution_count": 11,
   "metadata": {},
   "outputs": [
    {
     "name": "stderr",
     "output_type": "stream",
     "text": [
      "/usr/local/lib/python3.5/dist-packages/ipykernel_launcher.py:3: UserWarning: Update your `Dense` call to the Keras 2 API: `Dense(kernel_initializer=\"uniform\", activation=\"linear\", input_dim=1, units=1)`\n",
      "  This is separate from the ipykernel package so we can avoid doing imports until\n"
     ]
    }
   ],
   "source": [
    "# Linear regression model\n",
    "model = Sequential()\n",
    "model.add(Dense(input_dim=1, output_dim=1, init='uniform', activation='linear'))\n",
    "model.compile(optimizer='sgd', loss='mse')"
   ]
  },
  {
   "cell_type": "code",
   "execution_count": 12,
   "metadata": {},
   "outputs": [
    {
     "name": "stdout",
     "output_type": "stream",
     "text": [
      "Linear regression model is initialized with weight w: -0.02, b: 0.00\n"
     ]
    }
   ],
   "source": [
    "# Print initial weights\n",
    "weights = model.layers[0].get_weights()\n",
    "w_init = weights[0][0][0]\n",
    "b_init = weights[1][0]\n",
    "print('Linear regression model is initialized with weight w: %.2f, b: %.2f' % (w_init, b_init))"
   ]
  },
  {
   "cell_type": "code",
   "execution_count": 14,
   "metadata": {},
   "outputs": [
    {
     "name": "stdout",
     "output_type": "stream",
     "text": [
      "Epoch 1/100\n",
      "101/101 [==============================] - 0s 50us/step - loss: 0.1059 - acc: 0.0000e+00\n",
      "Epoch 2/100\n",
      "101/101 [==============================] - 0s 39us/step - loss: 0.1058 - acc: 0.0000e+00\n",
      "Epoch 3/100\n",
      "101/101 [==============================] - 0s 59us/step - loss: 0.1058 - acc: 0.0000e+00\n",
      "Epoch 4/100\n",
      "101/101 [==============================] - 0s 62us/step - loss: 0.1052 - acc: 0.0000e+00\n",
      "Epoch 5/100\n",
      "101/101 [==============================] - 0s 33us/step - loss: 0.1050 - acc: 0.0000e+00\n",
      "Epoch 6/100\n",
      "101/101 [==============================] - 0s 31us/step - loss: 0.1047 - acc: 0.0000e+00\n",
      "Epoch 7/100\n",
      "101/101 [==============================] - 0s 82us/step - loss: 0.1044 - acc: 0.0000e+00\n",
      "Epoch 8/100\n",
      "101/101 [==============================] - 0s 37us/step - loss: 0.1042 - acc: 0.0000e+00\n",
      "Epoch 9/100\n",
      "101/101 [==============================] - 0s 49us/step - loss: 0.1040 - acc: 0.0000e+00\n",
      "Epoch 10/100\n",
      "101/101 [==============================] - 0s 49us/step - loss: 0.1038 - acc: 0.0000e+00\n",
      "Epoch 11/100\n",
      "101/101 [==============================] - 0s 51us/step - loss: 0.1039 - acc: 0.0000e+00\n",
      "Epoch 12/100\n",
      "101/101 [==============================] - 0s 65us/step - loss: 0.1036 - acc: 0.0000e+00\n",
      "Epoch 13/100\n",
      "101/101 [==============================] - 0s 60us/step - loss: 0.1035 - acc: 0.0000e+00\n",
      "Epoch 14/100\n",
      "101/101 [==============================] - 0s 89us/step - loss: 0.1035 - acc: 0.0000e+00\n",
      "Epoch 15/100\n",
      "101/101 [==============================] - 0s 73us/step - loss: 0.1031 - acc: 0.0000e+00\n",
      "Epoch 16/100\n",
      "101/101 [==============================] - 0s 79us/step - loss: 0.1030 - acc: 0.0000e+00\n",
      "Epoch 17/100\n",
      "101/101 [==============================] - 0s 91us/step - loss: 0.1028 - acc: 0.0000e+00\n",
      "Epoch 18/100\n",
      "101/101 [==============================] - 0s 59us/step - loss: 0.1027 - acc: 0.0000e+00\n",
      "Epoch 19/100\n",
      "101/101 [==============================] - 0s 77us/step - loss: 0.1027 - acc: 0.0000e+00\n",
      "Epoch 20/100\n",
      "101/101 [==============================] - 0s 89us/step - loss: 0.1024 - acc: 0.0000e+00\n",
      "Epoch 21/100\n",
      "101/101 [==============================] - 0s 101us/step - loss: 0.1023 - acc: 0.0000e+00\n",
      "Epoch 22/100\n",
      "101/101 [==============================] - 0s 64us/step - loss: 0.1022 - acc: 0.0000e+00\n",
      "Epoch 23/100\n",
      "101/101 [==============================] - 0s 64us/step - loss: 0.1021 - acc: 0.0000e+00\n",
      "Epoch 24/100\n",
      "101/101 [==============================] - 0s 111us/step - loss: 0.1020 - acc: 0.0000e+00\n",
      "Epoch 25/100\n",
      "101/101 [==============================] - 0s 45us/step - loss: 0.1020 - acc: 0.0000e+00\n",
      "Epoch 26/100\n",
      "101/101 [==============================] - 0s 110us/step - loss: 0.1019 - acc: 0.0000e+00\n",
      "Epoch 27/100\n",
      "101/101 [==============================] - 0s 62us/step - loss: 0.1018 - acc: 0.0000e+00\n",
      "Epoch 28/100\n",
      "101/101 [==============================] - 0s 70us/step - loss: 0.1017 - acc: 0.0000e+00\n",
      "Epoch 29/100\n",
      "101/101 [==============================] - 0s 98us/step - loss: 0.1016 - acc: 0.0000e+00\n",
      "Epoch 30/100\n",
      "101/101 [==============================] - 0s 58us/step - loss: 0.1015 - acc: 0.0000e+00\n",
      "Epoch 31/100\n",
      "101/101 [==============================] - 0s 56us/step - loss: 0.1015 - acc: 0.0000e+00\n",
      "Epoch 32/100\n",
      "101/101 [==============================] - 0s 66us/step - loss: 0.1014 - acc: 0.0000e+00\n",
      "Epoch 33/100\n",
      "101/101 [==============================] - 0s 49us/step - loss: 0.1014 - acc: 0.0000e+00\n",
      "Epoch 34/100\n",
      "101/101 [==============================] - 0s 66us/step - loss: 0.1014 - acc: 0.0000e+00\n",
      "Epoch 35/100\n",
      "101/101 [==============================] - 0s 70us/step - loss: 0.1012 - acc: 0.0000e+00\n",
      "Epoch 36/100\n",
      "101/101 [==============================] - 0s 47us/step - loss: 0.1010 - acc: 0.0000e+00\n",
      "Epoch 37/100\n",
      "101/101 [==============================] - 0s 41us/step - loss: 0.1009 - acc: 0.0000e+00\n",
      "Epoch 38/100\n",
      "101/101 [==============================] - 0s 66us/step - loss: 0.1009 - acc: 0.0000e+00\n",
      "Epoch 39/100\n",
      "101/101 [==============================] - 0s 45us/step - loss: 0.1009 - acc: 0.0000e+00\n",
      "Epoch 40/100\n",
      "101/101 [==============================] - 0s 59us/step - loss: 0.1010 - acc: 0.0000e+00\n",
      "Epoch 41/100\n",
      "101/101 [==============================] - 0s 39us/step - loss: 0.1009 - acc: 0.0000e+00\n",
      "Epoch 42/100\n",
      "101/101 [==============================] - 0s 46us/step - loss: 0.1009 - acc: 0.0000e+00\n",
      "Epoch 43/100\n",
      "101/101 [==============================] - 0s 103us/step - loss: 0.1009 - acc: 0.0000e+00\n",
      "Epoch 44/100\n",
      "101/101 [==============================] - 0s 76us/step - loss: 0.1009 - acc: 0.0000e+00\n",
      "Epoch 45/100\n",
      "101/101 [==============================] - 0s 72us/step - loss: 0.1008 - acc: 0.0000e+00\n",
      "Epoch 46/100\n",
      "101/101 [==============================] - 0s 101us/step - loss: 0.1008 - acc: 0.0000e+00\n",
      "Epoch 47/100\n",
      "101/101 [==============================] - 0s 68us/step - loss: 0.1007 - acc: 0.0000e+00\n",
      "Epoch 48/100\n",
      "101/101 [==============================] - 0s 89us/step - loss: 0.1007 - acc: 0.0000e+00\n",
      "Epoch 49/100\n",
      "101/101 [==============================] - 0s 97us/step - loss: 0.1006 - acc: 0.0000e+00\n",
      "Epoch 50/100\n",
      "101/101 [==============================] - 0s 82us/step - loss: 0.1007 - acc: 0.0000e+00\n",
      "Epoch 51/100\n",
      "101/101 [==============================] - 0s 87us/step - loss: 0.1006 - acc: 0.0000e+00\n",
      "Epoch 52/100\n",
      "101/101 [==============================] - 0s 85us/step - loss: 0.1006 - acc: 0.0000e+00\n",
      "Epoch 53/100\n",
      "101/101 [==============================] - 0s 97us/step - loss: 0.1007 - acc: 0.0000e+00\n",
      "Epoch 54/100\n",
      "101/101 [==============================] - 0s 54us/step - loss: 0.1006 - acc: 0.0000e+00\n",
      "Epoch 55/100\n",
      "101/101 [==============================] - 0s 122us/step - loss: 0.1006 - acc: 0.0000e+00\n",
      "Epoch 56/100\n",
      "101/101 [==============================] - 0s 60us/step - loss: 0.1006 - acc: 0.0000e+00\n",
      "Epoch 57/100\n",
      "101/101 [==============================] - 0s 70us/step - loss: 0.1005 - acc: 0.0000e+00\n",
      "Epoch 58/100\n",
      "101/101 [==============================] - 0s 101us/step - loss: 0.1005 - acc: 0.0000e+00\n",
      "Epoch 59/100\n",
      "101/101 [==============================] - 0s 72us/step - loss: 0.1005 - acc: 0.0000e+00\n",
      "Epoch 60/100\n",
      "101/101 [==============================] - 0s 76us/step - loss: 0.1005 - acc: 0.0000e+00\n",
      "Epoch 61/100\n",
      "101/101 [==============================] - 0s 57us/step - loss: 0.1005 - acc: 0.0000e+00\n",
      "Epoch 62/100\n",
      "101/101 [==============================] - 0s 122us/step - loss: 0.1005 - acc: 0.0000e+00\n",
      "Epoch 63/100\n",
      "101/101 [==============================] - 0s 141us/step - loss: 0.1005 - acc: 0.0000e+00\n",
      "Epoch 64/100\n",
      "101/101 [==============================] - 0s 76us/step - loss: 0.1005 - acc: 0.0000e+00\n",
      "Epoch 65/100\n",
      "101/101 [==============================] - 0s 57us/step - loss: 0.1006 - acc: 0.0000e+00\n",
      "Epoch 66/100\n",
      "101/101 [==============================] - 0s 77us/step - loss: 0.1007 - acc: 0.0000e+00\n",
      "Epoch 67/100\n",
      "101/101 [==============================] - 0s 77us/step - loss: 0.1006 - acc: 0.0000e+00\n",
      "Epoch 68/100\n",
      "101/101 [==============================] - 0s 88us/step - loss: 0.1007 - acc: 0.0000e+00\n",
      "Epoch 69/100\n",
      "101/101 [==============================] - 0s 55us/step - loss: 0.1008 - acc: 0.0000e+00\n",
      "Epoch 70/100\n",
      "101/101 [==============================] - 0s 72us/step - loss: 0.1007 - acc: 0.0000e+00\n",
      "Epoch 71/100\n",
      "101/101 [==============================] - 0s 78us/step - loss: 0.1008 - acc: 0.0000e+00\n",
      "Epoch 72/100\n",
      "101/101 [==============================] - 0s 72us/step - loss: 0.1006 - acc: 0.0000e+00\n",
      "Epoch 73/100\n",
      "101/101 [==============================] - 0s 60us/step - loss: 0.1007 - acc: 0.0000e+00\n",
      "Epoch 74/100\n",
      "101/101 [==============================] - 0s 76us/step - loss: 0.1005 - acc: 0.0000e+00\n",
      "Epoch 75/100\n",
      "101/101 [==============================] - 0s 50us/step - loss: 0.1005 - acc: 0.0000e+00\n",
      "Epoch 76/100\n",
      "101/101 [==============================] - 0s 75us/step - loss: 0.1005 - acc: 0.0000e+00\n",
      "Epoch 77/100\n",
      "101/101 [==============================] - 0s 77us/step - loss: 0.1006 - acc: 0.0000e+00\n",
      "Epoch 78/100\n",
      "101/101 [==============================] - 0s 100us/step - loss: 0.1005 - acc: 0.0000e+00\n",
      "Epoch 79/100\n",
      "101/101 [==============================] - 0s 85us/step - loss: 0.1005 - acc: 0.0000e+00\n",
      "Epoch 80/100\n",
      "101/101 [==============================] - 0s 75us/step - loss: 0.1005 - acc: 0.0000e+00\n",
      "Epoch 81/100\n"
     ]
    },
    {
     "name": "stdout",
     "output_type": "stream",
     "text": [
      "101/101 [==============================] - 0s 71us/step - loss: 0.1005 - acc: 0.0000e+00\n",
      "Epoch 82/100\n",
      "101/101 [==============================] - 0s 110us/step - loss: 0.1006 - acc: 0.0000e+00\n",
      "Epoch 83/100\n",
      "101/101 [==============================] - 0s 89us/step - loss: 0.1006 - acc: 0.0000e+00\n",
      "Epoch 84/100\n",
      "101/101 [==============================] - 0s 56us/step - loss: 0.1007 - acc: 0.0000e+00\n",
      "Epoch 85/100\n",
      "101/101 [==============================] - 0s 84us/step - loss: 0.1006 - acc: 0.0000e+00\n",
      "Epoch 86/100\n",
      "101/101 [==============================] - 0s 59us/step - loss: 0.1005 - acc: 0.0000e+00\n",
      "Epoch 87/100\n",
      "101/101 [==============================] - 0s 71us/step - loss: 0.1005 - acc: 0.0000e+00\n",
      "Epoch 88/100\n",
      "101/101 [==============================] - 0s 54us/step - loss: 0.1006 - acc: 0.0000e+00\n",
      "Epoch 89/100\n",
      "101/101 [==============================] - 0s 104us/step - loss: 0.1005 - acc: 0.0000e+00\n",
      "Epoch 90/100\n",
      "101/101 [==============================] - 0s 86us/step - loss: 0.1004 - acc: 0.0000e+00\n",
      "Epoch 91/100\n",
      "101/101 [==============================] - 0s 82us/step - loss: 0.1004 - acc: 0.0000e+00\n",
      "Epoch 92/100\n",
      "101/101 [==============================] - 0s 91us/step - loss: 0.1005 - acc: 0.0000e+00\n",
      "Epoch 93/100\n",
      "101/101 [==============================] - 0s 96us/step - loss: 0.1004 - acc: 0.0000e+00\n",
      "Epoch 94/100\n",
      "101/101 [==============================] - 0s 126us/step - loss: 0.1004 - acc: 0.0000e+00\n",
      "Epoch 95/100\n",
      "101/101 [==============================] - 0s 91us/step - loss: 0.1004 - acc: 0.0000e+00\n",
      "Epoch 96/100\n",
      "101/101 [==============================] - 0s 69us/step - loss: 0.1004 - acc: 0.0000e+00\n",
      "Epoch 97/100\n",
      "101/101 [==============================] - 0s 74us/step - loss: 0.1005 - acc: 0.0000e+00\n",
      "Epoch 98/100\n",
      "101/101 [==============================] - 0s 56us/step - loss: 0.1004 - acc: 0.0000e+00\n",
      "Epoch 99/100\n",
      "101/101 [==============================] - 0s 108us/step - loss: 0.1005 - acc: 0.0000e+00\n",
      "Epoch 100/100\n",
      "101/101 [==============================] - 0s 54us/step - loss: 0.1004 - acc: 0.0000e+00\n"
     ]
    },
    {
     "data": {
      "text/plain": [
       "<keras.callbacks.History at 0x7f829079d748>"
      ]
     },
     "execution_count": 14,
     "metadata": {},
     "output_type": "execute_result"
    }
   ],
   "source": [
    "# Train\n",
    "model.fit(trX, trY, epochs=100, verbose=1)"
   ]
  },
  {
   "cell_type": "code",
   "execution_count": 7,
   "metadata": {},
   "outputs": [
    {
     "name": "stdout",
     "output_type": "stream",
     "text": [
      "Linear regression model is trained with weight w: 1.85, b: 0.01\n"
     ]
    }
   ],
   "source": [
    "weights = model.layers[0].get_weights()\n",
    "w = weights[0][0][0]\n",
    "b = weights[1][0]\n",
    "print('Linear regression model is trained with weight w: %.2f, b: %.2f' % (w, b))\n"
   ]
  },
  {
   "cell_type": "code",
   "execution_count": 9,
   "metadata": {},
   "outputs": [
    {
     "data": {
      "image/png": "[encoded data removed]",
      "text/plain": [
       "<Figure size 432x288 with 1 Axes>"
      ]
     },
     "metadata": {},
     "output_type": "display_data"
    }
   ],
   "source": [
    "#plot\n",
    "plt.plot(trX,trY,label='data')\n",
    "plt.plot(trX, w_init*trX + b_init, label='init')\n",
    "plt.plot(trX, w*trX + b, label='prediction')\n",
    "plt.legend()\n",
    "plt.show()"
   ]
  },
  {
   "cell_type": "code",
   "execution_count": null,
   "metadata": {},
   "outputs": [],
   "source": []
  }
 ],
 "metadata": {
  "kernelspec": {
   "display_name": "Python 3",
   "language": "python",
   "name": "python3"
  },
  "language_info": {
   "codemirror_mode": {
    "name": "ipython",
    "version": 3
   },
   "file_extension": ".py",
   "mimetype": "text/x-python",
   "name": "python",
   "nbconvert_exporter": "python",
   "pygments_lexer": "ipython3",
   "version": "3.5.2"
  }
 },
 "nbformat": 4,
 "nbformat_minor": 2
}
