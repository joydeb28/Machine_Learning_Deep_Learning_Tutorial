{
 "cells": [
  {
   "cell_type": "markdown",
   "metadata": {},
   "source": [
    "# heteroskedestacity# Linear Regression Study Notes\n",
    "\n",
    "#### What is Regression?\n",
    "##### Regression is a statistical way to establish a relationship between a dependent variable and a set of independent variable(s).\n",
    "\n",
    "##### Age = 5 + Height * 10 + Weight * 13\n",
    "\n",
    "#### 1. Linearity & Additive: There exists a linear and additive relationship between dependent (DV) and independent variables (IV). By linear, it means that the change in DV by 1 unit change in IV is constant. By additive, it refers to the effect of X on Y is independent of other variables.\n",
    "#### 2. No Co-relation: There must be no correlation among independent variables. Presence of correlation in independent variables lead to Multicollinearity. If variables are correlated, it becomes extremely difficult for the model to determine the true effect of IVs on DV.\n",
    "#### 3. Normality of error distribution: Distribution of differences between Actual & Predicted values (Residuals) should be normally distributed.\n",
    "#### 4. Heteroskedestacity: The error terms must possess constant variance. Absence of constant variance leads to heteroskedestacity.\n",
    "#### 5. Homoscedasticity: Variance of errors should be constant versus, i) Time, ii) The predictions and iii) Independent variable values"
   ]
  },
  {
   "cell_type": "markdown",
   "metadata": {},
   "source": [
    "# "
   ]
  },
  {
   "cell_type": "code",
   "execution_count": null,
   "metadata": {},
   "outputs": [],
   "source": []
  }
 ],
 "metadata": {
  "kernelspec": {
   "display_name": "Python 3",
   "language": "python",
   "name": "python3"
  },
  "language_info": {
   "codemirror_mode": {
    "name": "ipython",
    "version": 3
   },
   "file_extension": ".py",
   "mimetype": "text/x-python",
   "name": "python",
   "nbconvert_exporter": "python",
   "pygments_lexer": "ipython3",
   "version": "3.5.2"
  }
 },
 "nbformat": 4,
 "nbformat_minor": 2
}
